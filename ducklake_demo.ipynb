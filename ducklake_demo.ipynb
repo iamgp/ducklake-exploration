{
 "cells": [
  {
   "cell_type": "markdown",
   "id": "256143ee",
   "metadata": {},
   "source": [
    "# DuckLake Tutorial\n",
    "\n",
    "## Overview\n",
    "\n",
    "DuckLake is a DuckDB extension implementing an Iceberg-compatible lakehouse with ACID transactions, time travel queries, and schema evolution. It combines DuckDB's columnar analytics with PostgreSQL catalog management.\n",
    "\n",
    "**Key capabilities:**\n",
    "- ACID transactions on data lake operations\n",
    "- Snapshot-based time travel\n",
    "- Schema evolution without data migration\n",
    "- Parquet-based columnar storage"
   ]
  },
  {
   "cell_type": "markdown",
   "id": "1zkmg282a2r",
   "metadata": {},
   "source": [
    "# Quick Start\n",
    "\n",
    "## Start Required Services\n",
    "\n",
    "### Using taskipy (Recommended)\n",
    "```bash\n",
    "# Start all services\n",
    "uv run task start\n",
    "\n",
    "# Check status\n",
    "uv run task status\n",
    "\n",
    "# Stop all services\n",
    "uv run task stop\n",
    "```\n",
    "\n",
    "### Service Management\n",
    "```bash\n",
    "# Individual services\n",
    "uv run task start-postgres\n",
    "uv run task start-minio\n",
    "uv run task stop-postgres\n",
    "uv run task stop-minio\n",
    "\n",
    "# Monitoring\n",
    "uv run task logs-postgres    # PostgreSQL logs only\n",
    "uv run task logs-minio       # MinIO logs only\n",
    "uv run task logs             # Both services (prefixed)\n",
    "\n",
    "# Development workflow\n",
    "uv run task dev  # Start services + notebook\n",
    "\n",
    "# Data management\n",
    "uv run task clean      # Stop services, remove volumes\n",
    "uv run task reset      # Clean + restart\n",
    "uv run task reset-data # Clear DuckLake data only\n",
    "```\n",
    "\n",
    "### Access Points\n",
    "- **MinIO Console**: http://localhost:${MINIO_CONSOLE_PORT:-9001} (${MINIO_USER:-minioadmin}/${MINIO_PASSWORD:-minioadmin})\n",
    "- **PostgreSQL**: localhost:${POSTGRES_PORT:-5432} (${POSTGRES_USER:-ducklake}/${POSTGRES_PASSWORD:-ducklake123})"
   ]
  },
  {
   "cell_type": "code",
   "execution_count": null,
   "id": "1f064bfa",
   "metadata": {},
   "outputs": [],
   "source": [
    "import logging\n",
    "import os\n",
    "import shutil\n",
    "import subprocess\n",
    "import time\n",
    "\n",
    "import click\n",
    "import duckdb\n",
    "import numpy as np\n",
    "import pandas as pd\n",
    "from click import Context\n",
    "from rich import box\n",
    "from rich.console import Console\n",
    "from rich.markdown import Markdown\n",
    "from rich.panel import Panel\n",
    "from rich.progress import (\n",
    "    BarColumn,\n",
    "    Progress,\n",
    "    SpinnerColumn,\n",
    "    TextColumn,\n",
    "    TimeElapsedColumn,\n",
    ")\n",
    "from rich.syntax import Syntax\n",
    "from rich.table import Table\n",
    "from helpers import *\n",
    "\n",
    "# Initialize rich console and logger\n",
    "console = Console()\n",
    "\n",
    "setup_logging()\n",
    "\n",
    "console.print(\"✓ [green]Imports successful[/green]\")"
   ]
  },
  {
   "cell_type": "code",
   "execution_count": null,
   "id": "de26349c",
   "metadata": {},
   "outputs": [],
   "source": [
    "\n",
    "reset_ducklake_data()\n",
    "\n",
    "check_postgresql()\n",
    "conn = check_duckdb()\n",
    "\n",
    "if conn is not None:\n",
    "    conn = setup_extensions(conn)\n",
    "    pg_config = test_postgresql_connection()\n",
    "\n",
    "    if conn is not None and pg_config is not None:\n",
    "        db_name = initialize_ducklake(conn, pg_config)"
   ]
  },
  {
   "cell_type": "code",
   "execution_count": null,
   "id": "d0453294",
   "metadata": {},
   "outputs": [],
   "source": [
    "if conn is not None:\n",
    "    create_sample_data(conn)\n"
   ]
  },
  {
   "cell_type": "code",
   "execution_count": null,
   "id": "b84e862e",
   "metadata": {},
   "outputs": [],
   "source": [
    "if conn is not None:\n",
    "    demonstrate_queries(conn)\n"
   ]
  },
  {
   "cell_type": "markdown",
   "id": "39f90004",
   "metadata": {},
   "source": [
    "# Phase 2: ACID & Time Travel\n",
    "\n",
    "## ACID Transaction Test\n",
    "\n",
    "```python\n",
    "conn.begin()\n",
    "conn.execute(\"INSERT INTO customers VALUES (101, 'Test', 'test@example.com', '2024-01-01', 'Test City', 30)\")\n",
    "conn.execute(\"INSERT INTO sales VALUES (501, 101, 'Product', 999.99, '2024-01-01 10:00:00', 'Test')\")\n",
    "conn.rollback()  # Atomicity: all changes undone\n",
    "```\n",
    "\n",
    "## Snapshots\n",
    "\n",
    "Each data modification creates an immutable snapshot. Snapshots enable time travel queries to historical states.\n",
    "\n",
    "**Snapshot lifecycle**:\n",
    "1. Initial state (snapshot 1)\n",
    "2. Add customers (snapshot 2)\n",
    "3. Add sales (snapshot 3)\n",
    "4. Update ages (snapshot 4)\n",
    "5. Add column (snapshot 5)"
   ]
  },
  {
   "cell_type": "code",
   "execution_count": null,
   "id": "4175a817",
   "metadata": {},
   "outputs": [],
   "source": [
    "if conn is not None:\n",
    "    demonstrate_acid_transactions(conn)"
   ]
  },
  {
   "cell_type": "code",
   "execution_count": null,
   "id": "7320d850",
   "metadata": {},
   "outputs": [],
   "source": [
    "if conn is not None and db_name is not None:\n",
    "    demonstrate_time_travel(conn, db_name)"
   ]
  },
  {
   "cell_type": "markdown",
   "id": "t3yf6cpb8w",
   "metadata": {},
   "source": [
    "## Time Travel\n",
    "\n",
    "Query historical data using snapshot versions:\n",
    "\n",
    "```sql\n",
    "-- Current data\n",
    "SELECT customer_id, age FROM customers WHERE customer_id <= 5;\n",
    "\n",
    "-- Historical data\n",
    "SELECT customer_id, age FROM customers \n",
    "FOR SYSTEM_TIME AS OF SNAPSHOT 5\n",
    "WHERE customer_id <= 5;\n",
    "```\n",
    "\n",
    "**Use cases**: Audit trails, debugging, compliance, A/B testing\n",
    "**Implementation**: Snapshot-based versioning with immutable storage"
   ]
  },
  {
   "cell_type": "code",
   "execution_count": null,
   "id": "b7a1632d",
   "metadata": {},
   "outputs": [],
   "source": [
    "if conn is not None:\n",
    "    demonstrate_schema_evolution(conn)"
   ]
  },
  {
   "cell_type": "markdown",
   "id": "dpmyf2p6p6s",
   "metadata": {},
   "source": [
    "## Schema Evolution\n",
    "\n",
    "Add columns without data migration:\n",
    "\n",
    "```sql\n",
    "-- Add new column\n",
    "ALTER TABLE customers ADD COLUMN loyalty_points INTEGER DEFAULT 0;\n",
    "\n",
    "-- Update with calculated values\n",
    "UPDATE customers \n",
    "SET loyalty_points = age * 10\n",
    "WHERE loyalty_points IS NULL;\n",
    "```\n",
    "\n",
    "**Benefits**: \n",
    "- Non-destructive changes\n",
    "- Backward compatibility\n",
    "- Zero downtime\n",
    "- Automatic default handling"
   ]
  },
  {
   "cell_type": "markdown",
   "id": "2869e5d9",
   "metadata": {},
   "source": [
    "# Phase 3: Performance Analysis\n",
    "\n",
    "## Query Performance\n",
    "\n",
    "Measure execution time across query complexity levels:\n",
    "- Simple aggregation: `SELECT COUNT(*) FROM customers`\n",
    "- Join aggregation: Customer sales by city\n",
    "- Complex analytics: Multi-dimensional aggregation with filtering\n",
    "\n",
    "## Storage Efficiency\n",
    "\n",
    "**Parquet advantages**:\n",
    "- Columnar layout for analytical queries\n",
    "- Built-in compression (typically 80-90% reduction)\n",
    "- Predicate pushdown for selective reads\n",
    "- Cross-platform compatibility\n",
    "\n",
    "**Metrics analyzed**:\n",
    "- File sizes and compression ratios\n",
    "- Row counts and column statistics\n",
    "- Query execution times\n",
    "- I/O throughput"
   ]
  },
  {
   "cell_type": "code",
   "execution_count": null,
   "id": "906adf92",
   "metadata": {},
   "outputs": [],
   "source": [
    "if conn is not None:\n",
    "    demonstrate_performance(conn)"
   ]
  },
  {
   "cell_type": "code",
   "execution_count": null,
   "id": "244a7a00",
   "metadata": {},
   "outputs": [],
   "source": [
    "explore_parquet_files()"
   ]
  },
  {
   "cell_type": "code",
   "execution_count": null,
   "id": "35829e9d",
   "metadata": {},
   "outputs": [],
   "source": [
    "demonstrate_data_compression()"
   ]
  },
  {
   "cell_type": "code",
   "execution_count": null,
   "id": "88d5dea5",
   "metadata": {},
   "outputs": [],
   "source": [
    "if conn is not None:\n",
    "    show_maintenance_info(conn)"
   ]
  }
 ],
 "metadata": {
  "kernelspec": {
   "display_name": "ducklake",
   "language": "python",
   "name": "python3"
  },
  "language_info": {
   "codemirror_mode": {
    "name": "ipython",
    "version": 3
   },
   "file_extension": ".py",
   "mimetype": "text/x-python",
   "name": "python",
   "nbconvert_exporter": "python",
   "pygments_lexer": "ipython3",
   "version": "3.12.3"
  }
 },
 "nbformat": 4,
 "nbformat_minor": 5
}
